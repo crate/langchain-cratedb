{
 "cells": [
  {
   "cell_type": "markdown",
   "metadata": {},
   "source": [
    "# CrateDB\n",
    "\n",
    "[CrateDB] is a distributed and scalable SQL database for storing and analyzing\n",
    "massive amounts of data in near real-time, even with complex queries. It is\n",
    "PostgreSQL-compatible, and based on Lucene.\n",
    "\n",
    "[CrateDB Cloud] is a fully managed enterprise solution that enables seamless\n",
    "deployment, monitoring, backups, and scaling of CrateDB clusters in the cloud.\n",
    "\n",
    "[CrateDB]: https://cratedb.com/database\n",
    "[CrateDB Cloud]: https://cratedb.com/database/cloud"
   ]
  },
  {
   "cell_type": "code",
   "execution_count": 2,
   "metadata": {
    "id": "y8ku6X96sebl"
   },
   "outputs": [],
   "source": [
    "from langchain_cratedb import CrateDBChatMessageHistory\n",
    "from langchain_cratedb import CrateDBLoader\n",
    "from langchain_cratedb import CrateDBVectorStore, CrateDBVectorStoreMultiCollection"
   ]
  },
  {
   "metadata": {},
   "cell_type": "markdown",
   "source": [
    "To learn about the LangChain adapter for CrateDB, please refer to the documentation and examples:\n",
    "\n",
    "- [Using LangChain with CrateDB]\n",
    "- [CrateDB LangChain examples]\n",
    "\n",
    "[Using LangChain with CrateDB]: https://cratedb.com/docs/guide/integrate/langchain/\n",
    "[CrateDB LangChain examples]: https://github.com/crate/cratedb-examples/tree/main/topic/machine-learning/llm-langchain"
   ]
  }
 ],
 "metadata": {
  "colab": {
   "provenance": []
  },
  "kernelspec": {
   "display_name": "Python 3 (ipykernel)",
   "language": "python",
   "name": "python3"
  },
  "language_info": {
   "codemirror_mode": {
    "name": "ipython",
    "version": 3
   },
   "file_extension": ".py",
   "mimetype": "text/x-python",
   "name": "python",
   "nbconvert_exporter": "python",
   "pygments_lexer": "ipython3",
   "version": "3.10.11"
  }
 },
 "nbformat": 4,
 "nbformat_minor": 1
}
